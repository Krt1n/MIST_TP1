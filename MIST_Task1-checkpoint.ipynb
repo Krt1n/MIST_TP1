{
 "cells": [
  {
   "cell_type": "code",
   "execution_count": 1,
   "id": "f71e4d29-fb66-431f-b2c6-aac1b810cdf0",
   "metadata": {},
   "outputs": [],
   "source": [
    "#Hill Cypher"
   ]
  },
  {
   "cell_type": "code",
   "execution_count": null,
   "id": "44d56507-75ad-4ed4-bf2b-756c0ac7bfca",
   "metadata": {},
   "outputs": [],
   "source": [
    "def hill_encrypt(msg, key):\n",
    "    k = [[ord(key[i*3 + j]) - 65 for j in range(3)] for i in range(3)] # converts key to 3x3 matrix\n",
    "    m = [[ord(c) - 65] for c in msg]     # convert message to vector\n",
    "    c = [[0] for _ in range(3)]    # matrix multiplication mod 26\n",
    "    for i in range(3):\n",
    "        for j in range(1):\n",
    "            s = 0\n",
    "            for x in range(3):\n",
    "                s += k[i][x] * m[x][j]\n",
    "            c[i][j] = s % 26\n",
    "    cipher = ''.join(chr(c[i][0] + 65) for i in range(3))\n",
    "    print(\"\\nCiphertext:\", cipher)\n",
    "    \n",
    "def main():\n",
    "    msg = input(\"Enter a 3-letter message: \").upper()\n",
    "    key = input(\"Enter a 9-letter key: \").upper()\n",
    "\n",
    "    if len(msg) != 3 or len(key) != 9:\n",
    "        print(\"Message must be 3 letters and key must be 9 letters.\")\n",
    "        return\n",
    "    \n",
    "    hill_encrypt(msg, key)\n",
    "\n",
    "\n",
    "if __name__ == \"__main__\":\n",
    "    main()\n"
   ]
  },
  {
   "cell_type": "code",
   "execution_count": null,
   "id": "76b669dc-5cfd-4cc5-8f61-da4b39a2e7c9",
   "metadata": {},
   "outputs": [],
   "source": [
    "from collections import Counter\n",
    "\n",
    "# Path to your emoji ciphertext file\n",
    "filename = r\"C:\\Users\\Krtin\\Downloads\\book.txt\"\n",
    "\n",
    "# Read the ciphertext\n",
    "with open(filename, \"r\", encoding=\"utf-8\") as f:\n",
    "    cipher_text = f.read().strip()\n",
    "\n",
    "# Split into list of emojis (assuming space-separated)\n",
    "emoji_list = cipher_text.split()\n",
    "\n",
    "# Count emoji frequencies\n",
    "freq = Counter(emoji_list)\n",
    "print(\"Emoji frequencies:\", freq)\n",
    "\n",
    "# Ordered list of English letters by frequency\n",
    "english_freq_order = \"ETAOINSHRDLCUMWFGYPBVKJXQZ\"\n",
    "\n",
    "# List emojis ordered by frequency\n",
    "emojis_by_freq = [emoji for emoji, count in freq.most_common()]\n",
    "\n",
    "# Create initial mapping based on frequency heuristic\n",
    "mapping = {}\n",
    "for i, emoji in enumerate(emojis_by_freq):\n",
    "    if i < len(english_freq_order):\n",
    "        mapping[emoji] = english_freq_order[i]\n",
    "    else:\n",
    "        mapping[emoji] = \"?\"  # fallback for extra emojis\n",
    "\n",
    "# Decode the message using the mapping\n",
    "decoded_text = \"\".join([mapping.get(emoji, \"?\") for emoji in emoji_list])\n",
    "\n",
    "# Output the decoded text\n",
    "print(\"\\nGuessed decoding:\\n\", decoded_text)\n"
   ]
  },
  {
   "cell_type": "markdown",
   "id": "1483ddbc-c8f0-4ff4-b5c1-170577b4bf4d",
   "metadata": {},
   "source": [
    "## Spiral Cipher\n",
    "\n",
    "### Solve\n",
    "**Password** `taskphase{4r73m1s_n0_fOWL_PL4YPL5y}paddingpadding`\n",
    "It used an inward from top left spiral.\n",
    "\n",
    "### New Learnings\n",
    "\n",
    "### References\n",
    "https://www.dcode.fr/spiral-cipher\n",
    "https://bestcodes.weebly.com/spiral-cipher.html"
   ]
  },
  {
   "cell_type": "markdown",
   "id": "26e0d59a-cf60-4193-abce-f2f056ec3789",
   "metadata": {},
   "source": [
    "## HTML - Source code\n",
    "\n",
    "### Solve\n",
    "**Password** `nZ^&@q5&sjJHev0`\n",
    "The password was provided in the websites comments. I just hit inspect and read the HTML file to find the Password\n",
    "\n",
    "### New Learnings\n",
    "Learnt about comments in HTML\n",
    "\n",
    "### References "
   ]
  },
  {
   "cell_type": "code",
   "execution_count": null,
   "id": "17889d04-c323-4cf4-af44-3b6e2c22dc25",
   "metadata": {},
   "outputs": [],
   "source": []
  }
 ],
 "metadata": {
  "kernelspec": {
   "display_name": "Python 3 (ipykernel)",
   "language": "python",
   "name": "python3"
  },
  "language_info": {
   "codemirror_mode": {
    "name": "ipython",
    "version": 3
   },
   "file_extension": ".py",
   "mimetype": "text/x-python",
   "name": "python",
   "nbconvert_exporter": "python",
   "pygments_lexer": "ipython3",
   "version": "3.12.8"
  }
 },
 "nbformat": 4,
 "nbformat_minor": 5
}
